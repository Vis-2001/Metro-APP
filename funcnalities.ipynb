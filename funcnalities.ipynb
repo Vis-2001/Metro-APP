{
 "cells": [
  {
   "cell_type": "code",
   "execution_count": 1,
   "metadata": {},
   "outputs": [],
   "source": [
    "import mysql.connector"
   ]
  },
  {
   "cell_type": "code",
   "execution_count": 2,
   "metadata": {},
   "outputs": [],
   "source": [
    "mydb=mysql.connector.connect(\n",
    "    host='localhost',\n",
    "    username='root',\n",
    "    password=''\n",
    ")"
   ]
  },
  {
   "cell_type": "code",
   "execution_count": 3,
   "metadata": {},
   "outputs": [],
   "source": [
    "cursor=mydb.cursor()"
   ]
  },
  {
   "cell_type": "code",
   "execution_count": 4,
   "metadata": {},
   "outputs": [],
   "source": [
    "cursor.execute('use metro_managment')"
   ]
  },
  {
   "cell_type": "code",
   "execution_count": 5,
   "metadata": {},
   "outputs": [],
   "source": [
    "def newstation(name,id):\n",
    "    query='insert into stations values(\\''+name+'\\','+str(id)+');'\n",
    "    cursor.execute(query)\n",
    "    mydb.commit()"
   ]
  },
  {
   "cell_type": "code",
   "execution_count": 6,
   "metadata": {},
   "outputs": [],
   "source": [
    "def updatestation(id1,name2,id2):\n",
    "    query='update stations set station_name=\\''+name2+'\\',sid='+str(id1)+' where sid='+str(id2)\n",
    "    cursor.execute(query)\n",
    "    mydb.commit()"
   ]
  },
  {
   "cell_type": "code",
   "execution_count": 7,
   "metadata": {},
   "outputs": [],
   "source": [
    "def addfare(id1,id2,cost):\n",
    "    query='insert into fare values('+str(id1)+','+str(id2)+','+str(cost)+');'\n",
    "    cursor.execute(query)\n",
    "    mydb.commit()"
   ]
  },
  {
   "cell_type": "code",
   "execution_count": 8,
   "metadata": {},
   "outputs": [],
   "source": [
    "def updatefare(id1,id2,cost):\n",
    "    query='update fare set cost='+str(cost)+' where to_station_id='+str(id1)+' and from_station_id='+str(id2)\n",
    "    cursor.execute(query)\n",
    "    mydb.commit()"
   ]
  },
  {
   "cell_type": "code",
   "execution_count": 9,
   "metadata": {},
   "outputs": [],
   "source": [
    "def newcard(cid,balance):\n",
    "    query='insert into card(cid,balance) values('+str(cid)+','+str(balance)+')'\n",
    "    cursor.execute(query)\n",
    "    mydb.commit()"
   ]
  },
  {
   "cell_type": "code",
   "execution_count": 10,
   "metadata": {},
   "outputs": [],
   "source": [
    "def viewcard():\n",
    "    cursor.execute('select * from card')\n",
    "    for x in cursor:\n",
    "        print(x)"
   ]
  },
  {
   "cell_type": "code",
   "execution_count": 11,
   "metadata": {},
   "outputs": [],
   "source": [
    "def viewstation():\n",
    "    cursor.execute('select * from stations')\n",
    "    for x in cursor:\n",
    "        print(x)"
   ]
  },
  {
   "cell_type": "code",
   "execution_count": 12,
   "metadata": {},
   "outputs": [],
   "source": [
    "def viewfare():\n",
    "    cursor.execute('select * from fare')\n",
    "    for x in cursor:\n",
    "        print(x)"
   ]
  },
  {
   "cell_type": "code",
   "execution_count": 13,
   "metadata": {},
   "outputs": [],
   "source": [
    "def addcard(name,card):\n",
    "    query='select count(*) from card where cid='+str(card)\n",
    "    cursor.execute(query)\n",
    "    for x in cursor:\n",
    "        if(x[0]==0):\n",
    "            print('Enter correct card details')\n",
    "            return\n",
    "        else:\n",
    "            break\n",
    "    query='insert into user_card values(\\''+name+'\\','+str(card)+')'\n",
    "    cursor.execute(query)\n",
    "    mydb.commit()"
   ]
  },
  {
   "cell_type": "code",
   "execution_count": 14,
   "metadata": {},
   "outputs": [],
   "source": [
    "def removecard(name,card):\n",
    "    query='delete from user_card where Uname=\\''+name+'\\' and cid='+str(card)\n",
    "    cursor.execute(query)\n",
    "    mydb.commit()"
   ]
  },
  {
   "cell_type": "code",
   "execution_count": 15,
   "metadata": {},
   "outputs": [],
   "source": [
    "def newuser(name,biometric):\n",
    "    query='insert into user values(\\''+name+'\\',\\''+biometric+'\\')'\n",
    "    cursor.execute(query)\n",
    "    mydb.commit()"
   ]
  },
  {
   "cell_type": "code",
   "execution_count": 16,
   "metadata": {},
   "outputs": [],
   "source": [
    "def historyname(name):\n",
    "    query='select cid,payment_type,amount,entry_id,exit_id from transaction where cid in(select cid from user_card where Uname=\\''+str(name)+'\\')'\n",
    "    cursor.execute(query)\n",
    "    for x in cursor:\n",
    "        print(x)"
   ]
  },
  {
   "cell_type": "code",
   "execution_count": 17,
   "metadata": {},
   "outputs": [],
   "source": [
    "def historycard(card):\n",
    "    query='select cid,payment_type,amount,entry_id,exit_id from transaction where cid in(select cid from user_card where cid='+str(card)+')'\n",
    "    cursor.execute(query)\n",
    "    for x in cursor:\n",
    "        print(x)"
   ]
  },
  {
   "cell_type": "code",
   "execution_count": 18,
   "metadata": {},
   "outputs": [],
   "source": [
    "def history(name=None,card=None):\n",
    "    if(card==None):\n",
    "        historyname(name)\n",
    "    elif(name==None):\n",
    "        historycard(card)\n",
    "    else:\n",
    "        query='select cid,payment_type,amount,entry_id,exit_id from transaction where cid in(select cid from user_card where cid='+str(card)+' and Uname=\\''+str(name)+'\\')'\n",
    "        cursor.execute(query)\n",
    "        for x in cursor:\n",
    "            print(x)"
   ]
  },
  {
   "cell_type": "code",
   "execution_count": 19,
   "metadata": {},
   "outputs": [],
   "source": [
    "def checkbio(name,bio):\n",
    "    query='select count(*) from user where Uname=\\''+name+'\\' and biometric=\\''+bio+'\\''\n",
    "    cursor.execute(query)\n",
    "    for x in cursor:\n",
    "        if(x[0]==0):\n",
    "            return False\n",
    "        else:\n",
    "            return True\n",
    "        "
   ]
  },
  {
   "cell_type": "code",
   "execution_count": 20,
   "metadata": {},
   "outputs": [],
   "source": [
    "def checkcard(name,card):\n",
    "    query='select count(*) from user_card where Uname=\\''+name+'\\' and cid='+str(card)\n",
    "    cursor.execute(query)\n",
    "    for x in cursor:\n",
    "        if(x[0]==0):\n",
    "            return False\n",
    "        else:\n",
    "            return True"
   ]
  },
  {
   "cell_type": "code",
   "execution_count": 21,
   "metadata": {},
   "outputs": [],
   "source": [
    "def topup(card,name,amount,station,biometric,ptype):\n",
    "    if(checkbio(name,biometric)):\n",
    "        if(checkcard(name,card)):\n",
    "            q1='select tid from transaction order by tid desc limit 1'\n",
    "            cursor.execute(q1)\n",
    "            tid=0\n",
    "            for x in cursor:\n",
    "                tid=x[0]+1\n",
    "            q1='insert into transaction(tid,cid,Uname,payment_type,amount,entry_id) values('+str(tid)+','+str(card)+',\\''+name+'\\',\\''+ptype+'\\','+str(amount)+','+str(station)+')'\n",
    "            cursor.execute(q1)\n",
    "            q1='update card set balance=balance+'+str(amount)+' where cid='+str(card)\n",
    "            cursor.execute(q1)\n",
    "            mydb.commit()\n",
    "        else:\n",
    "            print('Check card number\\n')\n",
    "    else:\n",
    "        print('Check biometric\\n')"
   ]
  },
  {
   "cell_type": "code",
   "execution_count": 22,
   "metadata": {},
   "outputs": [],
   "source": [
    "def amt(sid1,sid2):\n",
    "    q1='select cost from fare where to_station_id='+str(sid1)+' and from_station_id='+str(sid2)\n",
    "    cursor.execute(q1)\n",
    "    amt=1000\n",
    "    for x in cursor:\n",
    "        amt=-1*x[0]\n",
    "    return amt"
   ]
  },
  {
   "cell_type": "code",
   "execution_count": 23,
   "metadata": {},
   "outputs": [],
   "source": [
    "def checkfunds(card,amt):\n",
    "    q1='select balance from card where cid='+str(card)\n",
    "    cursor.execute(q1)\n",
    "    bal=0\n",
    "    for x in cursor:\n",
    "        bal=x[0]\n",
    "    if(bal>=50 and bal-amt>=0):\n",
    "        return True\n",
    "    return False"
   ]
  },
  {
   "cell_type": "code",
   "execution_count": 24,
   "metadata": {},
   "outputs": [],
   "source": [
    "def travel(card,name,sid1,sid2,biometric):\n",
    "    if(checkbio(name,biometric)):\n",
    "        if(checkcard(name,card)):\n",
    "            cs=amt(sid1,sid2)\n",
    "            if(checkfunds(card,cs)):\n",
    "                q1='select tid from transaction order by tid desc limit 1'\n",
    "                cursor.execute(q1)\n",
    "                tid=0\n",
    "                for x in cursor:\n",
    "                    tid=x[0]+1\n",
    "                q1='insert into transaction(tid,cid,Uname,payment_type,amount,entry_id,exit_id) values('+str(tid)+','+str(card)+',\\''+name+'\\',\\'card\\','+str(cs)+','+str(sid1)+','+str(sid2)+')'\n",
    "                cursor.execute(q1)\n",
    "                q1='update card set balance=balance-'+str(-1*cs)+' where cid='+str(card)\n",
    "                cursor.execute(q1)\n",
    "                mydb.commit()\n",
    "            else:\n",
    "                print('Insufficienct balance kindly recharge')\n",
    "        else:\n",
    "            print('Check card number\\n')\n",
    "    else:\n",
    "        print('Check biometric\\n')"
   ]
  },
  {
   "cell_type": "code",
   "execution_count": 25,
   "metadata": {},
   "outputs": [],
   "source": [
    "def funds(card):\n",
    "    q1='select balance from card where cid='+str(card)\n",
    "    cursor.execute(q1)\n",
    "    bal=0\n",
    "    for x in cursor:\n",
    "        bal=x[0]\n",
    "        return bal"
   ]
  },
  {
   "cell_type": "code",
   "execution_count": 26,
   "metadata": {},
   "outputs": [],
   "source": [
    "admin='admin123'\n",
    "password='pass'\n"
   ]
  },
  {
   "cell_type": "code",
   "execution_count": 27,
   "metadata": {},
   "outputs": [
    {
     "name": "stdout",
     "output_type": "stream",
     "text": [
      "('National College', 1)\n",
      "('Lalbagh', 2)\n",
      "('South End Circle', 3)\n",
      "('RV Collage', 5)\n",
      "('National College', 1)\n",
      "('Lalbagh', 2)\n",
      "('South End Circle', 3)\n",
      "('RVC', 5)\n",
      "(1, 2, Decimal('10.000'))\n",
      "(1, 3, Decimal('15.000'))\n",
      "(1, 5, Decimal('25.000'))\n",
      "(2, 1, Decimal('10.000'))\n",
      "(2, 3, Decimal('10.000'))\n",
      "(3, 1, Decimal('15.000'))\n",
      "(3, 2, Decimal('10.000'))\n",
      "(1, 2, Decimal('10.000'))\n",
      "(1, 3, Decimal('20.000'))\n",
      "(1, 5, Decimal('25.000'))\n",
      "(2, 1, Decimal('10.000'))\n",
      "(2, 3, Decimal('10.000'))\n",
      "(3, 1, Decimal('15.000'))\n",
      "(3, 2, Decimal('10.000'))\n",
      "(1234, Decimal('140.000'), datetime.date(2022, 11, 13), None)\n",
      "(1243, Decimal('500.000'), datetime.date(2022, 11, 13), None)\n",
      "(1342, Decimal('75.420'), datetime.date(2022, 11, 13), None)\n",
      "(5641, Decimal('30.000'), datetime.date(2022, 11, 13), None)\n",
      "(1, 2, Decimal('10.000'))\n",
      "(1, 3, Decimal('20.000'))\n",
      "(1, 5, Decimal('25.000'))\n",
      "(2, 1, Decimal('10.000'))\n",
      "(2, 3, Decimal('10.000'))\n",
      "(3, 1, Decimal('15.000'))\n",
      "(3, 2, Decimal('10.000'))\n",
      "(1234, 'cash', Decimal('100.000'), 1, None)\n",
      "Insufficienct balance kindly recharge\n",
      "(5641, 'online', Decimal('100.000'), 3, None)\n",
      "(1243, 'card', Decimal('-10.000'), 2, 1)\n",
      "(1243, 'card', Decimal('-15.000'), 1, 3)\n",
      "(1342, 'online', Decimal('50.000'), 2, None)\n",
      "(5641, 'online', Decimal('100.000'), 3, None)\n"
     ]
    },
    {
     "data": {
      "text/plain": [
       "Decimal('130.000')"
      ]
     },
     "execution_count": 27,
     "metadata": {},
     "output_type": "execute_result"
    }
   ],
   "source": [
    "username='admin123'\n",
    "pas='pass'\n",
    "if(username==admin and password==pas):\n",
    "    newstation('RV Collage',5)\n",
    "    viewstation()\n",
    "    updatestation(5,'RVC',5)\n",
    "    viewstation()\n",
    "    addfare(1,5,25)\n",
    "    viewfare()\n",
    "    updatefare(1,3,20)\n",
    "    viewfare()\n",
    "    newcard(5641,30)\n",
    "    viewcard()\n",
    "viewfare()\n",
    "addcard('Yashas',5641)\n",
    "removecard('Vishal',1243)\n",
    "newuser('Nazi','01011')\n",
    "history(card=1234)\n",
    "travel(5641,'Yashas',1,6,'10101')\n",
    "topup(5641,'Yashas',100,3,'10101','online')\n",
    "history(card=5641)\n",
    "history('Yashas')\n",
    "funds(5641)"
   ]
  },
  {
   "cell_type": "code",
   "execution_count": null,
   "metadata": {},
   "outputs": [],
   "source": []
  },
  {
   "cell_type": "code",
   "execution_count": null,
   "metadata": {},
   "outputs": [],
   "source": []
  },
  {
   "cell_type": "code",
   "execution_count": null,
   "metadata": {},
   "outputs": [],
   "source": []
  },
  {
   "cell_type": "code",
   "execution_count": null,
   "metadata": {},
   "outputs": [],
   "source": []
  }
 ],
 "metadata": {
  "kernelspec": {
   "display_name": "Python 3.9.7 ('base')",
   "language": "python",
   "name": "python3"
  },
  "language_info": {
   "codemirror_mode": {
    "name": "ipython",
    "version": 3
   },
   "file_extension": ".py",
   "mimetype": "text/x-python",
   "name": "python",
   "nbconvert_exporter": "python",
   "pygments_lexer": "ipython3",
   "version": "3.9.7"
  },
  "orig_nbformat": 4,
  "vscode": {
   "interpreter": {
    "hash": "b131c3223c4bbe0e5f8a5fc16e1401c7cea0ae1eab5d898389696380fbb75120"
   }
  }
 },
 "nbformat": 4,
 "nbformat_minor": 2
}
